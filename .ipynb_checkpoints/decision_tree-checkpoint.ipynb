{
 "cells": [
  {
   "cell_type": "markdown",
   "id": "f0aecce6",
   "metadata": {},
   "source": [
    "### Please use the following dataset for problems 1 - 6"
   ]
  },
  {
   "cell_type": "code",
   "execution_count": 1,
   "id": "220df055",
   "metadata": {},
   "outputs": [
    {
     "data": {
      "text/html": [
       "<div>\n",
       "<style scoped>\n",
       "    .dataframe tbody tr th:only-of-type {\n",
       "        vertical-align: middle;\n",
       "    }\n",
       "\n",
       "    .dataframe tbody tr th {\n",
       "        vertical-align: top;\n",
       "    }\n",
       "\n",
       "    .dataframe thead th {\n",
       "        text-align: right;\n",
       "    }\n",
       "</style>\n",
       "<table border=\"1\" class=\"dataframe\">\n",
       "  <thead>\n",
       "    <tr style=\"text-align: right;\">\n",
       "      <th></th>\n",
       "      <th>age</th>\n",
       "      <th>workclass</th>\n",
       "      <th>demogweight</th>\n",
       "      <th>education</th>\n",
       "      <th>education-num</th>\n",
       "      <th>marital-status</th>\n",
       "      <th>occupation</th>\n",
       "      <th>relationship</th>\n",
       "      <th>race</th>\n",
       "      <th>sex</th>\n",
       "      <th>capital-gain</th>\n",
       "      <th>capital-loss</th>\n",
       "      <th>hours-per-week</th>\n",
       "      <th>native-country</th>\n",
       "      <th>income</th>\n",
       "    </tr>\n",
       "  </thead>\n",
       "  <tbody>\n",
       "    <tr>\n",
       "      <th>0</th>\n",
       "      <td>39</td>\n",
       "      <td>State-gov</td>\n",
       "      <td>77516</td>\n",
       "      <td>Bachelors</td>\n",
       "      <td>13</td>\n",
       "      <td>Never-married</td>\n",
       "      <td>Adm-clerical</td>\n",
       "      <td>Not-in-family</td>\n",
       "      <td>White</td>\n",
       "      <td>Male</td>\n",
       "      <td>2174</td>\n",
       "      <td>0</td>\n",
       "      <td>40</td>\n",
       "      <td>United-States</td>\n",
       "      <td>&lt;=50K.</td>\n",
       "    </tr>\n",
       "    <tr>\n",
       "      <th>1</th>\n",
       "      <td>50</td>\n",
       "      <td>Self-emp-not-inc</td>\n",
       "      <td>83311</td>\n",
       "      <td>Bachelors</td>\n",
       "      <td>13</td>\n",
       "      <td>Married-civ-spouse</td>\n",
       "      <td>Exec-managerial</td>\n",
       "      <td>Husband</td>\n",
       "      <td>White</td>\n",
       "      <td>Male</td>\n",
       "      <td>0</td>\n",
       "      <td>0</td>\n",
       "      <td>13</td>\n",
       "      <td>United-States</td>\n",
       "      <td>&lt;=50K.</td>\n",
       "    </tr>\n",
       "    <tr>\n",
       "      <th>2</th>\n",
       "      <td>38</td>\n",
       "      <td>Private</td>\n",
       "      <td>215646</td>\n",
       "      <td>HS-grad</td>\n",
       "      <td>9</td>\n",
       "      <td>Divorced</td>\n",
       "      <td>Handlers-cleaners</td>\n",
       "      <td>Not-in-family</td>\n",
       "      <td>White</td>\n",
       "      <td>Male</td>\n",
       "      <td>0</td>\n",
       "      <td>0</td>\n",
       "      <td>40</td>\n",
       "      <td>United-States</td>\n",
       "      <td>&lt;=50K.</td>\n",
       "    </tr>\n",
       "    <tr>\n",
       "      <th>3</th>\n",
       "      <td>53</td>\n",
       "      <td>Private</td>\n",
       "      <td>234721</td>\n",
       "      <td>11th</td>\n",
       "      <td>7</td>\n",
       "      <td>Married-civ-spouse</td>\n",
       "      <td>Handlers-cleaners</td>\n",
       "      <td>Husband</td>\n",
       "      <td>Black</td>\n",
       "      <td>Male</td>\n",
       "      <td>0</td>\n",
       "      <td>0</td>\n",
       "      <td>40</td>\n",
       "      <td>United-States</td>\n",
       "      <td>&lt;=50K.</td>\n",
       "    </tr>\n",
       "    <tr>\n",
       "      <th>4</th>\n",
       "      <td>28</td>\n",
       "      <td>Private</td>\n",
       "      <td>338409</td>\n",
       "      <td>Bachelors</td>\n",
       "      <td>13</td>\n",
       "      <td>Married-civ-spouse</td>\n",
       "      <td>Prof-specialty</td>\n",
       "      <td>Wife</td>\n",
       "      <td>Black</td>\n",
       "      <td>Female</td>\n",
       "      <td>0</td>\n",
       "      <td>0</td>\n",
       "      <td>40</td>\n",
       "      <td>Cuba</td>\n",
       "      <td>&lt;=50K.</td>\n",
       "    </tr>\n",
       "  </tbody>\n",
       "</table>\n",
       "</div>"
      ],
      "text/plain": [
       "   age         workclass  demogweight  education  education-num  \\\n",
       "0   39         State-gov        77516  Bachelors             13   \n",
       "1   50  Self-emp-not-inc        83311  Bachelors             13   \n",
       "2   38           Private       215646    HS-grad              9   \n",
       "3   53           Private       234721       11th              7   \n",
       "4   28           Private       338409  Bachelors             13   \n",
       "\n",
       "       marital-status         occupation   relationship   race     sex  \\\n",
       "0       Never-married       Adm-clerical  Not-in-family  White    Male   \n",
       "1  Married-civ-spouse    Exec-managerial        Husband  White    Male   \n",
       "2            Divorced  Handlers-cleaners  Not-in-family  White    Male   \n",
       "3  Married-civ-spouse  Handlers-cleaners        Husband  Black    Male   \n",
       "4  Married-civ-spouse     Prof-specialty           Wife  Black  Female   \n",
       "\n",
       "   capital-gain  capital-loss  hours-per-week native-country  income  \n",
       "0          2174             0              40  United-States  <=50K.  \n",
       "1             0             0              13  United-States  <=50K.  \n",
       "2             0             0              40  United-States  <=50K.  \n",
       "3             0             0              40  United-States  <=50K.  \n",
       "4             0             0              40           Cuba  <=50K.  "
      ]
     },
     "execution_count": 1,
     "metadata": {},
     "output_type": "execute_result"
    }
   ],
   "source": [
    "# dependencies\n",
    "import pandas as pd\n",
    "\n",
    "# data source\n",
    "URL_adult='https://raw.githubusercontent.com/kamranbakhtiari/DESC624/main/Adult'\n",
    "adult = pd.read_csv(URL_adult)\n",
    "\n",
    "# data first view\n",
    "adult.head()"
   ]
  },
  {
   "cell_type": "markdown",
   "id": "f6758f31",
   "metadata": {},
   "source": [
    "#### 1. Partition the data set, so that 50% of the records are included in the training data set and 50% are included in the test data set. Use a bar graph to conifrm your proportions"
   ]
  },
  {
   "cell_type": "code",
   "execution_count": 2,
   "id": "17e9f586",
   "metadata": {},
   "outputs": [
    {
     "data": {
      "text/plain": [
       "<AxesSubplot:xlabel='name', ylabel='partition'>"
      ]
     },
     "execution_count": 2,
     "metadata": {},
     "output_type": "execute_result"
    },
    {
     "data": {
      "image/png": "[encoded data removed]",
      "text/plain": [
       "<Figure size 432x288 with 1 Axes>"
      ]
     },
     "metadata": {
      "needs_background": "light"
     },
     "output_type": "display_data"
    }
   ],
   "source": [
    "# dependencies\n",
    "from sklearn.model_selection import train_test_split\n",
    "import seaborn as sns\n",
    "\n",
    "# split train and test dataset\n",
    "train, test = train_test_split(adult, test_size = 0.5, random_state = 100)\n",
    "\n",
    "# plot the result \n",
    "partition = pd.DataFrame({'name':['test', 'train'],\n",
    "                          'partition':[len(test)/len(adult), len(train)/len(adult)]\n",
    "                          })\n",
    "sns.barplot(x='name', y='partition', data=partition)"
   ]
  },
  {
   "cell_type": "markdown",
   "id": "c8b9cbcb",
   "metadata": {},
   "source": [
    "Utilize train_test_split function from sklearn's model_selection package. Split dataset into half and half for traning and testing.\n",
    "\n",
    "Plot the result."
   ]
  },
  {
   "cell_type": "markdown",
   "id": "1711aa44",
   "metadata": {},
   "source": [
    "#### 2. Identify the total number of records in the training data set, and how many records in the training data set have an income value of < 50k"
   ]
  },
  {
   "cell_type": "code",
   "execution_count": 3,
   "id": "7729f6bd",
   "metadata": {},
   "outputs": [
    {
     "data": {
      "text/plain": [
       "<=50K.    9541\n",
       ">50K.     2959\n",
       "Name: income, dtype: int64"
      ]
     },
     "execution_count": 3,
     "metadata": {},
     "output_type": "execute_result"
    }
   ],
   "source": [
    "# overview\n",
    "train[\"income\"].value_counts()"
   ]
  },
  {
   "cell_type": "code",
   "execution_count": 4,
   "id": "f16c765e",
   "metadata": {},
   "outputs": [
    {
     "name": "stdout",
     "output_type": "stream",
     "text": [
      "There are  9541  records in the training dataset which contain an income value of <=50K.\n"
     ]
    }
   ],
   "source": [
    "# locate records where income < 50k\n",
    "below_50k = train.loc[train[\"income\"] == '<=50K.']\n",
    "# print out the result\n",
    "print('There are ', len(below_50k), ' records in the training dataset which contain an income value of <=50K.')"
   ]
  },
  {
   "cell_type": "markdown",
   "id": "acfbd79e",
   "metadata": {},
   "source": [
    "First, utilize loc() function to find all records have an income value of <50k.\n",
    "\n",
    "Second, use len() to calculate how many records in the training set, print out the result."
   ]
  },
  {
   "cell_type": "markdown",
   "id": "fbe4dd2a",
   "metadata": {},
   "source": [
    "#### 3. Use your answers from the previous excercise to calculate how many records with income >50k you need to resmaple in order to have 35% of the rebalanced data set have incomes of >50k"
   ]
  },
  {
   "cell_type": "code",
   "execution_count": 5,
   "id": "b21d1265",
   "metadata": {},
   "outputs": [
    {
     "name": "stdout",
     "output_type": "stream",
     "text": [
      "There are  2959  records in the training dataset which contain an income value of <=50K.\n"
     ]
    }
   ],
   "source": [
    "# locate records where income > 50k\n",
    "above_50k = train.loc[train[\"income\"] == '>50K.']\n",
    "print('There are ', len(above_50k), ' records in the training dataset which contain an income value of <=50K.')"
   ]
  },
  {
   "cell_type": "code",
   "execution_count": 6,
   "id": "b97ee971",
   "metadata": {},
   "outputs": [
    {
     "data": {
      "text/plain": [
       "2178"
      ]
     },
     "execution_count": 6,
     "metadata": {},
     "output_type": "execute_result"
    }
   ],
   "source": [
    "# calculate number of resample \n",
    "resample_size = (0.35*len(train) - len(above_50k)) / (1-0.35)\n",
    "round(resample_size)"
   ]
  },
  {
   "cell_type": "markdown",
   "id": "011b7e7f",
   "metadata": {},
   "source": [
    "First, calculate how many records that contain >50k. Then, calculate how many records we need to resample in order to meet 35%. It turns out 2178."
   ]
  },
  {
   "cell_type": "markdown",
   "id": "286449ee",
   "metadata": {},
   "source": [
    "#### 4. Perform the rebalancing described in the previous exercise and confirm that 35% of the records in the rebalanced data set have incomes >50k"
   ]
  },
  {
   "cell_type": "code",
   "execution_count": 7,
   "id": "4f557781",
   "metadata": {},
   "outputs": [],
   "source": [
    "# sample for the interest\n",
    "resample = above_50k.sample(n = 2178, replace = True)"
   ]
  },
  {
   "cell_type": "code",
   "execution_count": 8,
   "id": "049252b9",
   "metadata": {},
   "outputs": [
    {
     "data": {
      "text/plain": [
       "(14678, 15)"
      ]
     },
     "execution_count": 8,
     "metadata": {},
     "output_type": "execute_result"
    }
   ],
   "source": [
    "# add resampled records to orginal training data\n",
    "train_rebal = pd.concat([train, resample])\n",
    "train_rebal.shape"
   ]
  },
  {
   "cell_type": "code",
   "execution_count": 9,
   "id": "a2146817",
   "metadata": {},
   "outputs": [
    {
     "data": {
      "text/plain": [
       "<=50K.    0.65002\n",
       ">50K.     0.34998\n",
       "Name: income, dtype: float64"
      ]
     },
     "execution_count": 9,
     "metadata": {},
     "output_type": "execute_result"
    }
   ],
   "source": [
    "train_rebal.income.value_counts(normalize=True)"
   ]
  },
  {
   "cell_type": "markdown",
   "id": "6587bef1",
   "metadata": {},
   "source": [
    "2178 specifies how many records to draw, while the input replace = True specifies to sample with replacement. The output is a data set made up of these 2178 randomly resampled records.\n",
    "\n",
    "Nest, I add the resmapled records to the orginal training data set.2178 specifies how many records to draw, while the input replace = True specifies to sample with replacement. The output is a data set made up of these 2178 randomly resampled records.\n",
    "\n",
    "Finally, I add the resmapled records to the orginal training data set."
   ]
  },
  {
   "cell_type": "markdown",
   "id": "6673b352",
   "metadata": {},
   "source": [
    "#### 5. Validate your partition by performing a two-sample Z-test for the difference in means for the mean age in the training set versus the mean age in the test set?"
   ]
  },
  {
   "cell_type": "code",
   "execution_count": 10,
   "id": "f66b8acb",
   "metadata": {},
   "outputs": [],
   "source": [
    "# dependencies\n",
    "from statsmodels.stats.weightstats import ztest as ztest"
   ]
  },
  {
   "cell_type": "code",
   "execution_count": 11,
   "id": "676adf67",
   "metadata": {},
   "outputs": [
    {
     "data": {
      "text/plain": [
       "(4.6660167799345285, 3.0709463360677496e-06)"
      ]
     },
     "execution_count": 11,
     "metadata": {},
     "output_type": "execute_result"
    }
   ],
   "source": [
    "ztest(train_rebal['age'], test['age'])"
   ]
  },
  {
   "cell_type": "markdown",
   "id": "bef06d50",
   "metadata": {},
   "source": [
    "I used ztest function from statsmodels package to calculate z-score and p-value for age of both groups.\n",
    "\n",
    "As shown above, z-value: 4.651 and p-value: 3.301e-06\n",
    "\n",
    "The test result is statistical significant since p-value is less than 0.05, and z-value is greater than 1.96 (under 95% CI) at the same time."
   ]
  },
  {
   "cell_type": "markdown",
   "id": "8cabb894",
   "metadata": {},
   "source": [
    "#### 6. Validate your partition by performing a two-sample Z-test for the difference in proportion of >50k records in the training set versus the proportion of >50k records in the test set?"
   ]
  },
  {
   "cell_type": "code",
   "execution_count": 38,
   "id": "244cd567",
   "metadata": {},
   "outputs": [],
   "source": [
    "# locate target data\n",
    "train_rebal_ab_50k = train_rebal.loc[train_rebal[\"income\"] == '>50K.']\n",
    "test_above_50k = test.loc[test[\"income\"] == '>50K.']"
   ]
  },
  {
   "cell_type": "code",
   "execution_count": 39,
   "id": "f492775a",
   "metadata": {},
   "outputs": [],
   "source": [
    "# dependencies\n",
    "from statsmodels.stats.proportion import proportions_ztest\n",
    "import numpy as np"
   ]
  },
  {
   "cell_type": "code",
   "execution_count": 40,
   "id": "2454a589",
   "metadata": {},
   "outputs": [],
   "source": [
    "counts = np.array([len(train_rebal_ab_50k), len(test_above_50k)])\n",
    "nobs = np.array([len(train_rebal), len(test)])"
   ]
  },
  {
   "cell_type": "code",
   "execution_count": 41,
   "id": "de7cee13",
   "metadata": {},
   "outputs": [],
   "source": [
    "z_value, p_value = proportions_ztest(counts, nobs)"
   ]
  },
  {
   "cell_type": "code",
   "execution_count": 42,
   "id": "7c83d08a",
   "metadata": {},
   "outputs": [
    {
     "name": "stdout",
     "output_type": "stream",
     "text": [
      "The z-value is:  19.354451776138237\n",
      "The p-value is:  1.869732110677899e-83\n"
     ]
    }
   ],
   "source": [
    "print('The z-value is: ', z_value)\n",
    "print('The p-value is: ', p_value)"
   ]
  },
  {
   "cell_type": "markdown",
   "id": "fd6de9b6",
   "metadata": {},
   "source": [
    "The test result is statistical significant since p-value is less than 0.05, and z-value is greater than 1.96 (under 95% CI) at the same time.\n",
    "\n",
    "Thus, we reject the null hypothesis of \"the proporation of income >50k in two data set are the same\"."
   ]
  },
  {
   "cell_type": "markdown",
   "id": "53efaf53",
   "metadata": {},
   "source": [
    "### Please use the following dataset for problems 7 - 8"
   ]
  },
  {
   "cell_type": "code",
   "execution_count": 44,
   "id": "9196cdc6",
   "metadata": {},
   "outputs": [
    {
     "data": {
      "text/html": [
       "<div>\n",
       "<style scoped>\n",
       "    .dataframe tbody tr th:only-of-type {\n",
       "        vertical-align: middle;\n",
       "    }\n",
       "\n",
       "    .dataframe tbody tr th {\n",
       "        vertical-align: top;\n",
       "    }\n",
       "\n",
       "    .dataframe thead th {\n",
       "        text-align: right;\n",
       "    }\n",
       "</style>\n",
       "<table border=\"1\" class=\"dataframe\">\n",
       "  <thead>\n",
       "    <tr style=\"text-align: right;\">\n",
       "      <th></th>\n",
       "      <th>Approval</th>\n",
       "      <th>Debt-to-Income Ratio</th>\n",
       "      <th>FICO Score</th>\n",
       "      <th>Request Amount</th>\n",
       "      <th>Interest</th>\n",
       "    </tr>\n",
       "  </thead>\n",
       "  <tbody>\n",
       "    <tr>\n",
       "      <th>0</th>\n",
       "      <td>F</td>\n",
       "      <td>0.0</td>\n",
       "      <td>397</td>\n",
       "      <td>1000</td>\n",
       "      <td>450.0</td>\n",
       "    </tr>\n",
       "    <tr>\n",
       "      <th>1</th>\n",
       "      <td>F</td>\n",
       "      <td>0.0</td>\n",
       "      <td>403</td>\n",
       "      <td>500</td>\n",
       "      <td>225.0</td>\n",
       "    </tr>\n",
       "    <tr>\n",
       "      <th>2</th>\n",
       "      <td>F</td>\n",
       "      <td>0.0</td>\n",
       "      <td>408</td>\n",
       "      <td>1000</td>\n",
       "      <td>450.0</td>\n",
       "    </tr>\n",
       "    <tr>\n",
       "      <th>3</th>\n",
       "      <td>F</td>\n",
       "      <td>0.0</td>\n",
       "      <td>408</td>\n",
       "      <td>2000</td>\n",
       "      <td>900.0</td>\n",
       "    </tr>\n",
       "    <tr>\n",
       "      <th>4</th>\n",
       "      <td>F</td>\n",
       "      <td>0.0</td>\n",
       "      <td>411</td>\n",
       "      <td>5000</td>\n",
       "      <td>2250.0</td>\n",
       "    </tr>\n",
       "  </tbody>\n",
       "</table>\n",
       "</div>"
      ],
      "text/plain": [
       "  Approval  Debt-to-Income Ratio  FICO Score  Request Amount  Interest\n",
       "0        F                   0.0         397            1000     450.0\n",
       "1        F                   0.0         403             500     225.0\n",
       "2        F                   0.0         408            1000     450.0\n",
       "3        F                   0.0         408            2000     900.0\n",
       "4        F                   0.0         411            5000    2250.0"
      ]
     },
     "execution_count": 44,
     "metadata": {},
     "output_type": "execute_result"
    }
   ],
   "source": [
    "import pandas as pd\n",
    "\n",
    "URL_loan_training='https://raw.githubusercontent.com/kamranbakhtiari/DESC624/main/Loans_Training'\n",
    "URL_loan_test='https://raw.githubusercontent.com/kamranbakhtiari/DESC624/main/Loans_Test'\n",
    "\n",
    "loan_test = pd.read_csv(URL_loan_test)\n",
    "loan_training = pd.read_csv(URL_loan_training)\n",
    "\n",
    "loan_test.head()\n",
    "loan_training.head()"
   ]
  },
  {
   "cell_type": "markdown",
   "id": "2758a2fe",
   "metadata": {},
   "source": [
    "#### 7. Create a CART model using the training data set that predicts Approval using Debt to Income Ratio, FICO score, and Request Amount. Visualize the decision Tree (make sure the decision tree appears directly in this workbook, not a seperate .dot file). Describe the first few splits in the decision tree. What do the values in the brackets represent? The sample size for each node? the Root?"
   ]
  },
  {
   "cell_type": "code",
   "execution_count": null,
   "id": "0476032b",
   "metadata": {},
   "outputs": [],
   "source": [
    "# code"
   ]
  },
  {
   "cell_type": "markdown",
   "id": "f9293fd5",
   "metadata": {},
   "source": [
    "Provide sentence(s) explaining your solution"
   ]
  },
  {
   "cell_type": "markdown",
   "id": "09abd03a",
   "metadata": {},
   "source": [
    "#### 8. Create a CART model using the test data set that uses the same target and predictor variables. Visualize the decision Tree (make sure the decision tree appears directly in this workbook, not a seperate .dot file). Describe the first few splits in the decision tree. What do the values in the brackets represent? The sample size for each node? the Root? Does the tree built using the test data match the tree built using the training data?"
   ]
  },
  {
   "cell_type": "code",
   "execution_count": 46,
   "id": "e932376d",
   "metadata": {},
   "outputs": [],
   "source": [
    "# code"
   ]
  },
  {
   "cell_type": "markdown",
   "id": "81ea3027",
   "metadata": {},
   "source": [
    "Provide sentence(s) explaining your solution"
   ]
  }
 ],
 "metadata": {
  "kernelspec": {
   "display_name": "Python 3 (ipykernel)",
   "language": "python",
   "name": "python3"
  },
  "language_info": {
   "codemirror_mode": {
    "name": "ipython",
    "version": 3
   },
   "file_extension": ".py",
   "mimetype": "text/x-python",
   "name": "python",
   "nbconvert_exporter": "python",
   "pygments_lexer": "ipython3",
   "version": "3.9.7"
  }
 },
 "nbformat": 4,
 "nbformat_minor": 5
}
