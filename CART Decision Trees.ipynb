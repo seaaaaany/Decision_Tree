{
 "cells": [
  {
   "cell_type": "markdown",
   "id": "2f022dc9",
   "metadata": {},
   "source": [
    "## Classification and Regression Trees"
   ]
  },
  {
   "cell_type": "markdown",
   "id": "42d64a1c",
   "metadata": {},
   "source": [
    "We are ready to finally begin modeling our data, in the Modeling Phase. Data science offers a wide variety of methods and algorithms for modeling large data sets. We begin here with one of the simplest methods: decision trees. In this chapter we will work with the adult_ch6_training and the adult_ch6_test data sets. These are adapted from the Adult data set from the UCI repository. For simplicity, only two predictors and the target are retained, as follows:\n",
    "\n",
    "- Marital status, a categorical predictor with classes married, divorced, never‐married, separated, and widowed.\n",
    "- Cap_gains_losses, a numerical predictor, equal to capital gains + |capital losses|.\n",
    "- Income, a categorical target variable with two classes, >50k and ≤50k, representing individuals whose income is greater than 50,000 per year, and those with income less than or equal to 50,000 per year.\n",
    "\n",
    "A decision tree consists of a set of decision nodes, connected by branches, extending downward from the root node until terminating in leaf nodes. Beginning at the root node, which by convention is placed at the top of the decision tree diagram, variables are tested at the decision nodes, with each possible outcome resulting in a branch. Each branch then leads either to another decision node or to a terminating leaf node."
   ]
  },
  {
   "cell_type": "code",
   "execution_count": 1,
   "id": "10d6903c",
   "metadata": {},
   "outputs": [],
   "source": [
    "# dependencies\n",
    "import pandas as pd\n",
    "import numpy as np\n",
    "import statsmodels.tools.tools as stattools\n",
    "from sklearn.tree import DecisionTreeClassifier, export_graphviz"
   ]
  },
  {
   "cell_type": "code",
   "execution_count": 2,
   "id": "188b478f",
   "metadata": {},
   "outputs": [
    {
     "data": {
      "text/html": [
       "<div>\n",
       "<style scoped>\n",
       "    .dataframe tbody tr th:only-of-type {\n",
       "        vertical-align: middle;\n",
       "    }\n",
       "\n",
       "    .dataframe tbody tr th {\n",
       "        vertical-align: top;\n",
       "    }\n",
       "\n",
       "    .dataframe thead th {\n",
       "        text-align: right;\n",
       "    }\n",
       "</style>\n",
       "<table border=\"1\" class=\"dataframe\">\n",
       "  <thead>\n",
       "    <tr style=\"text-align: right;\">\n",
       "      <th></th>\n",
       "      <th>Marital status</th>\n",
       "      <th>Income</th>\n",
       "      <th>Cap_Gains_Losses</th>\n",
       "    </tr>\n",
       "  </thead>\n",
       "  <tbody>\n",
       "    <tr>\n",
       "      <th>0</th>\n",
       "      <td>Never-married</td>\n",
       "      <td>&lt;=50K</td>\n",
       "      <td>0.02174</td>\n",
       "    </tr>\n",
       "    <tr>\n",
       "      <th>1</th>\n",
       "      <td>Divorced</td>\n",
       "      <td>&lt;=50K</td>\n",
       "      <td>0.00000</td>\n",
       "    </tr>\n",
       "    <tr>\n",
       "      <th>2</th>\n",
       "      <td>Married</td>\n",
       "      <td>&lt;=50K</td>\n",
       "      <td>0.00000</td>\n",
       "    </tr>\n",
       "    <tr>\n",
       "      <th>3</th>\n",
       "      <td>Married</td>\n",
       "      <td>&lt;=50K</td>\n",
       "      <td>0.00000</td>\n",
       "    </tr>\n",
       "    <tr>\n",
       "      <th>4</th>\n",
       "      <td>Married</td>\n",
       "      <td>&lt;=50K</td>\n",
       "      <td>0.00000</td>\n",
       "    </tr>\n",
       "  </tbody>\n",
       "</table>\n",
       "</div>"
      ],
      "text/plain": [
       "  Marital status Income  Cap_Gains_Losses\n",
       "0  Never-married  <=50K           0.02174\n",
       "1       Divorced  <=50K           0.00000\n",
       "2        Married  <=50K           0.00000\n",
       "3        Married  <=50K           0.00000\n",
       "4        Married  <=50K           0.00000"
      ]
     },
     "execution_count": 2,
     "metadata": {},
     "output_type": "execute_result"
    }
   ],
   "source": [
    "# load data\n",
    "url = 'https://raw.githubusercontent.com/ArashVafa/DESC624/master/adult_ch6_training'\n",
    "adult_tr = pd.read_csv(url)\n",
    "adult_tr.head()\n",
    "data = adult_tr\n",
    "data.head()"
   ]
  },
  {
   "cell_type": "markdown",
   "id": "6da86e58",
   "metadata": {},
   "source": [
    "### Data Processing"
   ]
  },
  {
   "cell_type": "code",
   "execution_count": 3,
   "id": "28386810",
   "metadata": {},
   "outputs": [],
   "source": [
    "# segment\n",
    "y = adult_tr[['Income']]"
   ]
  },
  {
   "cell_type": "markdown",
   "id": "d2d03da3",
   "metadata": {},
   "source": [
    "y.head()"
   ]
  },
  {
   "cell_type": "markdown",
   "id": "670bf182",
   "metadata": {},
   "source": [
    "We have a categorical variable, Marital status, among our predictors. The CART model implemented in the sklearn package needs categorical variables converted to a dummy variable form. \n",
    "\n",
    "Thus, we will make a series of dummy variables for Marital status using the categorical() command."
   ]
  },
  {
   "cell_type": "code",
   "execution_count": 4,
   "id": "369f2a24",
   "metadata": {},
   "outputs": [
    {
     "name": "stderr",
     "output_type": "stream",
     "text": [
      "/opt/anaconda3/lib/python3.9/site-packages/statsmodels/tools/tools.py:158: FutureWarning: categorical is deprecated. Use pandas Categorical to represent categorical data and can get_dummies to construct dummy arrays. It will be removed after release 0.13.\n",
      "  warnings.warn(\n"
     ]
    }
   ],
   "source": [
    "# identify the categorical variables which need to be converted\n",
    "mar_np = np.array(adult_tr['Marital status'])\n",
    "(mar_cat, mar_cat_dict) = stattools.categorical(mar_np, dictnames = True)#, drop = True)"
   ]
  },
  {
   "cell_type": "code",
   "execution_count": 5,
   "id": "b72a4ba4",
   "metadata": {},
   "outputs": [
    {
     "data": {
      "text/plain": [
       "array([['Never-married', 0.0, 0.0, 1.0, 0.0, 0.0],\n",
       "       ['Divorced', 1.0, 0.0, 0.0, 0.0, 0.0],\n",
       "       ['Married', 0.0, 1.0, 0.0, 0.0, 0.0],\n",
       "       ...,\n",
       "       ['Married', 0.0, 1.0, 0.0, 0.0, 0.0],\n",
       "       ['Divorced', 1.0, 0.0, 0.0, 0.0, 0.0],\n",
       "       ['Married', 0.0, 1.0, 0.0, 0.0, 0.0]], dtype=object)"
      ]
     },
     "execution_count": 5,
     "metadata": {},
     "output_type": "execute_result"
    }
   ],
   "source": [
    "# view the result\n",
    "mar_cat"
   ]
  },
  {
   "cell_type": "markdown",
   "id": "4e14fb3b",
   "metadata": {},
   "source": [
    "We turn the variable Marital status into an array using array(), then use the categorical() command from the stattools package to create a matrix of dummy variables for each value of Marital status. We save the matrix and dictionary separately using (mar_cat, mar_cat_dict).\n",
    "\n",
    "The matrix mar_cat contains five columns, one for each category in the original Marital status variable. Each row represents a record in the adult_tr data set. Each row will have a 1 in the column which matches the value that record had in the original Marital status variable. You can tell which column represents which category by examining mar_cat_dict. In our case, the first row of mar_cat has a 1 in the third column. By examining mar_cat_dict, we know the third column represents the “Never married” category. Sure enough, the first record of adult_tr has “Never married” as the Marital status variable value.\n",
    "\n",
    "Now, we need to add the newly made dummy variables back into the X variables."
   ]
  },
  {
   "cell_type": "code",
   "execution_count": 6,
   "id": "3b6b8bbb",
   "metadata": {},
   "outputs": [],
   "source": [
    "mar_cat_pd = pd.DataFrame(mar_cat)\n",
    "X = pd.concat((adult_tr[['Cap_Gains_Losses']], mar_cat_pd), axis = 1)"
   ]
  },
  {
   "cell_type": "code",
   "execution_count": 7,
   "id": "06c11168",
   "metadata": {},
   "outputs": [],
   "source": [
    "mar_cat_pd.columns = ['MS', \"1\", \"2\", \"3\", \"4\", \"5\"]"
   ]
  },
  {
   "cell_type": "code",
   "execution_count": 8,
   "id": "2a146585",
   "metadata": {},
   "outputs": [
    {
     "data": {
      "text/html": [
       "<div>\n",
       "<style scoped>\n",
       "    .dataframe tbody tr th:only-of-type {\n",
       "        vertical-align: middle;\n",
       "    }\n",
       "\n",
       "    .dataframe tbody tr th {\n",
       "        vertical-align: top;\n",
       "    }\n",
       "\n",
       "    .dataframe thead th {\n",
       "        text-align: right;\n",
       "    }\n",
       "</style>\n",
       "<table border=\"1\" class=\"dataframe\">\n",
       "  <thead>\n",
       "    <tr style=\"text-align: right;\">\n",
       "      <th></th>\n",
       "      <th>MS</th>\n",
       "      <th>1</th>\n",
       "      <th>2</th>\n",
       "      <th>3</th>\n",
       "      <th>4</th>\n",
       "      <th>5</th>\n",
       "    </tr>\n",
       "  </thead>\n",
       "  <tbody>\n",
       "    <tr>\n",
       "      <th>0</th>\n",
       "      <td>Never-married</td>\n",
       "      <td>0.0</td>\n",
       "      <td>0.0</td>\n",
       "      <td>1.0</td>\n",
       "      <td>0.0</td>\n",
       "      <td>0.0</td>\n",
       "    </tr>\n",
       "    <tr>\n",
       "      <th>1</th>\n",
       "      <td>Divorced</td>\n",
       "      <td>1.0</td>\n",
       "      <td>0.0</td>\n",
       "      <td>0.0</td>\n",
       "      <td>0.0</td>\n",
       "      <td>0.0</td>\n",
       "    </tr>\n",
       "    <tr>\n",
       "      <th>2</th>\n",
       "      <td>Married</td>\n",
       "      <td>0.0</td>\n",
       "      <td>1.0</td>\n",
       "      <td>0.0</td>\n",
       "      <td>0.0</td>\n",
       "      <td>0.0</td>\n",
       "    </tr>\n",
       "    <tr>\n",
       "      <th>3</th>\n",
       "      <td>Married</td>\n",
       "      <td>0.0</td>\n",
       "      <td>1.0</td>\n",
       "      <td>0.0</td>\n",
       "      <td>0.0</td>\n",
       "      <td>0.0</td>\n",
       "    </tr>\n",
       "    <tr>\n",
       "      <th>4</th>\n",
       "      <td>Married</td>\n",
       "      <td>0.0</td>\n",
       "      <td>1.0</td>\n",
       "      <td>0.0</td>\n",
       "      <td>0.0</td>\n",
       "      <td>0.0</td>\n",
       "    </tr>\n",
       "    <tr>\n",
       "      <th>...</th>\n",
       "      <td>...</td>\n",
       "      <td>...</td>\n",
       "      <td>...</td>\n",
       "      <td>...</td>\n",
       "      <td>...</td>\n",
       "      <td>...</td>\n",
       "    </tr>\n",
       "    <tr>\n",
       "      <th>18756</th>\n",
       "      <td>Divorced</td>\n",
       "      <td>1.0</td>\n",
       "      <td>0.0</td>\n",
       "      <td>0.0</td>\n",
       "      <td>0.0</td>\n",
       "      <td>0.0</td>\n",
       "    </tr>\n",
       "    <tr>\n",
       "      <th>18757</th>\n",
       "      <td>Married</td>\n",
       "      <td>0.0</td>\n",
       "      <td>1.0</td>\n",
       "      <td>0.0</td>\n",
       "      <td>0.0</td>\n",
       "      <td>0.0</td>\n",
       "    </tr>\n",
       "    <tr>\n",
       "      <th>18758</th>\n",
       "      <td>Married</td>\n",
       "      <td>0.0</td>\n",
       "      <td>1.0</td>\n",
       "      <td>0.0</td>\n",
       "      <td>0.0</td>\n",
       "      <td>0.0</td>\n",
       "    </tr>\n",
       "    <tr>\n",
       "      <th>18759</th>\n",
       "      <td>Divorced</td>\n",
       "      <td>1.0</td>\n",
       "      <td>0.0</td>\n",
       "      <td>0.0</td>\n",
       "      <td>0.0</td>\n",
       "      <td>0.0</td>\n",
       "    </tr>\n",
       "    <tr>\n",
       "      <th>18760</th>\n",
       "      <td>Married</td>\n",
       "      <td>0.0</td>\n",
       "      <td>1.0</td>\n",
       "      <td>0.0</td>\n",
       "      <td>0.0</td>\n",
       "      <td>0.0</td>\n",
       "    </tr>\n",
       "  </tbody>\n",
       "</table>\n",
       "<p>18761 rows × 6 columns</p>\n",
       "</div>"
      ],
      "text/plain": [
       "                  MS    1    2    3    4    5\n",
       "0      Never-married  0.0  0.0  1.0  0.0  0.0\n",
       "1           Divorced  1.0  0.0  0.0  0.0  0.0\n",
       "2            Married  0.0  1.0  0.0  0.0  0.0\n",
       "3            Married  0.0  1.0  0.0  0.0  0.0\n",
       "4            Married  0.0  1.0  0.0  0.0  0.0\n",
       "...              ...  ...  ...  ...  ...  ...\n",
       "18756       Divorced  1.0  0.0  0.0  0.0  0.0\n",
       "18757        Married  0.0  1.0  0.0  0.0  0.0\n",
       "18758        Married  0.0  1.0  0.0  0.0  0.0\n",
       "18759       Divorced  1.0  0.0  0.0  0.0  0.0\n",
       "18760        Married  0.0  1.0  0.0  0.0  0.0\n",
       "\n",
       "[18761 rows x 6 columns]"
      ]
     },
     "execution_count": 8,
     "metadata": {},
     "output_type": "execute_result"
    }
   ],
   "source": [
    "mar_cat_pd"
   ]
  },
  {
   "cell_type": "code",
   "execution_count": 9,
   "id": "d1f5d49a",
   "metadata": {},
   "outputs": [
    {
     "data": {
      "text/html": [
       "<div>\n",
       "<style scoped>\n",
       "    .dataframe tbody tr th:only-of-type {\n",
       "        vertical-align: middle;\n",
       "    }\n",
       "\n",
       "    .dataframe tbody tr th {\n",
       "        vertical-align: top;\n",
       "    }\n",
       "\n",
       "    .dataframe thead th {\n",
       "        text-align: right;\n",
       "    }\n",
       "</style>\n",
       "<table border=\"1\" class=\"dataframe\">\n",
       "  <thead>\n",
       "    <tr style=\"text-align: right;\">\n",
       "      <th></th>\n",
       "      <th>Cap_Gains_Losses</th>\n",
       "      <th>0</th>\n",
       "      <th>1</th>\n",
       "      <th>2</th>\n",
       "      <th>3</th>\n",
       "      <th>4</th>\n",
       "      <th>5</th>\n",
       "    </tr>\n",
       "  </thead>\n",
       "  <tbody>\n",
       "    <tr>\n",
       "      <th>0</th>\n",
       "      <td>0.02174</td>\n",
       "      <td>Never-married</td>\n",
       "      <td>0.0</td>\n",
       "      <td>0.0</td>\n",
       "      <td>1.0</td>\n",
       "      <td>0.0</td>\n",
       "      <td>0.0</td>\n",
       "    </tr>\n",
       "    <tr>\n",
       "      <th>1</th>\n",
       "      <td>0.00000</td>\n",
       "      <td>Divorced</td>\n",
       "      <td>1.0</td>\n",
       "      <td>0.0</td>\n",
       "      <td>0.0</td>\n",
       "      <td>0.0</td>\n",
       "      <td>0.0</td>\n",
       "    </tr>\n",
       "    <tr>\n",
       "      <th>2</th>\n",
       "      <td>0.00000</td>\n",
       "      <td>Married</td>\n",
       "      <td>0.0</td>\n",
       "      <td>1.0</td>\n",
       "      <td>0.0</td>\n",
       "      <td>0.0</td>\n",
       "      <td>0.0</td>\n",
       "    </tr>\n",
       "    <tr>\n",
       "      <th>3</th>\n",
       "      <td>0.00000</td>\n",
       "      <td>Married</td>\n",
       "      <td>0.0</td>\n",
       "      <td>1.0</td>\n",
       "      <td>0.0</td>\n",
       "      <td>0.0</td>\n",
       "      <td>0.0</td>\n",
       "    </tr>\n",
       "    <tr>\n",
       "      <th>4</th>\n",
       "      <td>0.00000</td>\n",
       "      <td>Married</td>\n",
       "      <td>0.0</td>\n",
       "      <td>1.0</td>\n",
       "      <td>0.0</td>\n",
       "      <td>0.0</td>\n",
       "      <td>0.0</td>\n",
       "    </tr>\n",
       "  </tbody>\n",
       "</table>\n",
       "</div>"
      ],
      "text/plain": [
       "   Cap_Gains_Losses              0    1    2    3    4    5\n",
       "0           0.02174  Never-married  0.0  0.0  1.0  0.0  0.0\n",
       "1           0.00000       Divorced  1.0  0.0  0.0  0.0  0.0\n",
       "2           0.00000        Married  0.0  1.0  0.0  0.0  0.0\n",
       "3           0.00000        Married  0.0  1.0  0.0  0.0  0.0\n",
       "4           0.00000        Married  0.0  1.0  0.0  0.0  0.0"
      ]
     },
     "execution_count": 9,
     "metadata": {},
     "output_type": "execute_result"
    }
   ],
   "source": [
    "X.head()"
   ]
  },
  {
   "cell_type": "markdown",
   "id": "934e110d",
   "metadata": {},
   "source": [
    "We first make the mar_cat matrix a data frame using the DataFrame() command. We then use the concat() command to attach the predictor variable Cap_Gains_Losses to the data frame of dummy variables that represent marital status. We save the result as X.\n",
    "\n",
    "Before we run the CART algorithm, note that the columns of X do not include the different values of the Marital status variable. Run mar_cat_dict to see that the first column is for the value “Divorced,” the second for “Married,” and so on. Since the first column of X is Cap_Gains_Losses, we can specify the names of each column of X."
   ]
  },
  {
   "cell_type": "code",
   "execution_count": 10,
   "id": "acb29b53",
   "metadata": {},
   "outputs": [],
   "source": [
    "X_names = [\"Cap_Gains_Losses\", \"Divorced\", \"Married\", \"Never-married\", \"Separated\", \"Widowed\"]"
   ]
  },
  {
   "cell_type": "code",
   "execution_count": 11,
   "id": "708b5ce4",
   "metadata": {},
   "outputs": [
    {
     "data": {
      "text/html": [
       "<div>\n",
       "<style scoped>\n",
       "    .dataframe tbody tr th:only-of-type {\n",
       "        vertical-align: middle;\n",
       "    }\n",
       "\n",
       "    .dataframe tbody tr th {\n",
       "        vertical-align: top;\n",
       "    }\n",
       "\n",
       "    .dataframe thead th {\n",
       "        text-align: right;\n",
       "    }\n",
       "</style>\n",
       "<table border=\"1\" class=\"dataframe\">\n",
       "  <thead>\n",
       "    <tr style=\"text-align: right;\">\n",
       "      <th></th>\n",
       "      <th>Cap_Gains_Losses</th>\n",
       "      <th>0</th>\n",
       "      <th>1</th>\n",
       "      <th>2</th>\n",
       "      <th>3</th>\n",
       "      <th>4</th>\n",
       "      <th>5</th>\n",
       "    </tr>\n",
       "  </thead>\n",
       "  <tbody>\n",
       "    <tr>\n",
       "      <th>0</th>\n",
       "      <td>0.02174</td>\n",
       "      <td>Never-married</td>\n",
       "      <td>0.0</td>\n",
       "      <td>0.0</td>\n",
       "      <td>1.0</td>\n",
       "      <td>0.0</td>\n",
       "      <td>0.0</td>\n",
       "    </tr>\n",
       "    <tr>\n",
       "      <th>1</th>\n",
       "      <td>0.00000</td>\n",
       "      <td>Divorced</td>\n",
       "      <td>1.0</td>\n",
       "      <td>0.0</td>\n",
       "      <td>0.0</td>\n",
       "      <td>0.0</td>\n",
       "      <td>0.0</td>\n",
       "    </tr>\n",
       "    <tr>\n",
       "      <th>2</th>\n",
       "      <td>0.00000</td>\n",
       "      <td>Married</td>\n",
       "      <td>0.0</td>\n",
       "      <td>1.0</td>\n",
       "      <td>0.0</td>\n",
       "      <td>0.0</td>\n",
       "      <td>0.0</td>\n",
       "    </tr>\n",
       "    <tr>\n",
       "      <th>3</th>\n",
       "      <td>0.00000</td>\n",
       "      <td>Married</td>\n",
       "      <td>0.0</td>\n",
       "      <td>1.0</td>\n",
       "      <td>0.0</td>\n",
       "      <td>0.0</td>\n",
       "      <td>0.0</td>\n",
       "    </tr>\n",
       "    <tr>\n",
       "      <th>4</th>\n",
       "      <td>0.00000</td>\n",
       "      <td>Married</td>\n",
       "      <td>0.0</td>\n",
       "      <td>1.0</td>\n",
       "      <td>0.0</td>\n",
       "      <td>0.0</td>\n",
       "      <td>0.0</td>\n",
       "    </tr>\n",
       "  </tbody>\n",
       "</table>\n",
       "</div>"
      ],
      "text/plain": [
       "   Cap_Gains_Losses              0    1    2    3    4    5\n",
       "0           0.02174  Never-married  0.0  0.0  1.0  0.0  0.0\n",
       "1           0.00000       Divorced  1.0  0.0  0.0  0.0  0.0\n",
       "2           0.00000        Married  0.0  1.0  0.0  0.0  0.0\n",
       "3           0.00000        Married  0.0  1.0  0.0  0.0  0.0\n",
       "4           0.00000        Married  0.0  1.0  0.0  0.0  0.0"
      ]
     },
     "execution_count": 11,
     "metadata": {},
     "output_type": "execute_result"
    }
   ],
   "source": [
    "X.head()"
   ]
  },
  {
   "cell_type": "markdown",
   "id": "f4b3052b",
   "metadata": {},
   "source": [
    "It will help us when visualizing the CART model to know the levels of y as well."
   ]
  },
  {
   "cell_type": "code",
   "execution_count": 12,
   "id": "33459492",
   "metadata": {},
   "outputs": [],
   "source": [
    "y_names = [\"<=50K\", \">50K\"]"
   ]
  },
  {
   "cell_type": "code",
   "execution_count": 13,
   "id": "4d198ac1",
   "metadata": {},
   "outputs": [
    {
     "data": {
      "text/html": [
       "<div>\n",
       "<style scoped>\n",
       "    .dataframe tbody tr th:only-of-type {\n",
       "        vertical-align: middle;\n",
       "    }\n",
       "\n",
       "    .dataframe tbody tr th {\n",
       "        vertical-align: top;\n",
       "    }\n",
       "\n",
       "    .dataframe thead th {\n",
       "        text-align: right;\n",
       "    }\n",
       "</style>\n",
       "<table border=\"1\" class=\"dataframe\">\n",
       "  <thead>\n",
       "    <tr style=\"text-align: right;\">\n",
       "      <th></th>\n",
       "      <th>Income</th>\n",
       "    </tr>\n",
       "  </thead>\n",
       "  <tbody>\n",
       "    <tr>\n",
       "      <th>0</th>\n",
       "      <td>&lt;=50K</td>\n",
       "    </tr>\n",
       "    <tr>\n",
       "      <th>1</th>\n",
       "      <td>&lt;=50K</td>\n",
       "    </tr>\n",
       "    <tr>\n",
       "      <th>2</th>\n",
       "      <td>&lt;=50K</td>\n",
       "    </tr>\n",
       "    <tr>\n",
       "      <th>3</th>\n",
       "      <td>&lt;=50K</td>\n",
       "    </tr>\n",
       "    <tr>\n",
       "      <th>4</th>\n",
       "      <td>&lt;=50K</td>\n",
       "    </tr>\n",
       "  </tbody>\n",
       "</table>\n",
       "</div>"
      ],
      "text/plain": [
       "  Income\n",
       "0  <=50K\n",
       "1  <=50K\n",
       "2  <=50K\n",
       "3  <=50K\n",
       "4  <=50K"
      ]
     },
     "execution_count": 13,
     "metadata": {},
     "output_type": "execute_result"
    }
   ],
   "source": [
    "y.head()"
   ]
  },
  {
   "cell_type": "code",
   "execution_count": 14,
   "id": "701cbd7a",
   "metadata": {},
   "outputs": [],
   "source": [
    "X2 = pd.concat((adult_tr[['Cap_Gains_Losses']], mar_cat_pd), axis = 1)"
   ]
  },
  {
   "cell_type": "code",
   "execution_count": 15,
   "id": "9acfea6e",
   "metadata": {},
   "outputs": [
    {
     "data": {
      "text/html": [
       "<div>\n",
       "<style scoped>\n",
       "    .dataframe tbody tr th:only-of-type {\n",
       "        vertical-align: middle;\n",
       "    }\n",
       "\n",
       "    .dataframe tbody tr th {\n",
       "        vertical-align: top;\n",
       "    }\n",
       "\n",
       "    .dataframe thead th {\n",
       "        text-align: right;\n",
       "    }\n",
       "</style>\n",
       "<table border=\"1\" class=\"dataframe\">\n",
       "  <thead>\n",
       "    <tr style=\"text-align: right;\">\n",
       "      <th></th>\n",
       "      <th>Cap_Gains_Losses</th>\n",
       "      <th>MS</th>\n",
       "      <th>1</th>\n",
       "      <th>2</th>\n",
       "      <th>3</th>\n",
       "      <th>4</th>\n",
       "      <th>5</th>\n",
       "    </tr>\n",
       "  </thead>\n",
       "  <tbody>\n",
       "    <tr>\n",
       "      <th>0</th>\n",
       "      <td>0.02174</td>\n",
       "      <td>Never-married</td>\n",
       "      <td>0.0</td>\n",
       "      <td>0.0</td>\n",
       "      <td>1.0</td>\n",
       "      <td>0.0</td>\n",
       "      <td>0.0</td>\n",
       "    </tr>\n",
       "    <tr>\n",
       "      <th>1</th>\n",
       "      <td>0.00000</td>\n",
       "      <td>Divorced</td>\n",
       "      <td>1.0</td>\n",
       "      <td>0.0</td>\n",
       "      <td>0.0</td>\n",
       "      <td>0.0</td>\n",
       "      <td>0.0</td>\n",
       "    </tr>\n",
       "    <tr>\n",
       "      <th>2</th>\n",
       "      <td>0.00000</td>\n",
       "      <td>Married</td>\n",
       "      <td>0.0</td>\n",
       "      <td>1.0</td>\n",
       "      <td>0.0</td>\n",
       "      <td>0.0</td>\n",
       "      <td>0.0</td>\n",
       "    </tr>\n",
       "    <tr>\n",
       "      <th>3</th>\n",
       "      <td>0.00000</td>\n",
       "      <td>Married</td>\n",
       "      <td>0.0</td>\n",
       "      <td>1.0</td>\n",
       "      <td>0.0</td>\n",
       "      <td>0.0</td>\n",
       "      <td>0.0</td>\n",
       "    </tr>\n",
       "    <tr>\n",
       "      <th>4</th>\n",
       "      <td>0.00000</td>\n",
       "      <td>Married</td>\n",
       "      <td>0.0</td>\n",
       "      <td>1.0</td>\n",
       "      <td>0.0</td>\n",
       "      <td>0.0</td>\n",
       "      <td>0.0</td>\n",
       "    </tr>\n",
       "  </tbody>\n",
       "</table>\n",
       "</div>"
      ],
      "text/plain": [
       "   Cap_Gains_Losses             MS    1    2    3    4    5\n",
       "0           0.02174  Never-married  0.0  0.0  1.0  0.0  0.0\n",
       "1           0.00000       Divorced  1.0  0.0  0.0  0.0  0.0\n",
       "2           0.00000        Married  0.0  1.0  0.0  0.0  0.0\n",
       "3           0.00000        Married  0.0  1.0  0.0  0.0  0.0\n",
       "4           0.00000        Married  0.0  1.0  0.0  0.0  0.0"
      ]
     },
     "execution_count": 15,
     "metadata": {},
     "output_type": "execute_result"
    }
   ],
   "source": [
    "X2.head()"
   ]
  },
  {
   "cell_type": "code",
   "execution_count": 16,
   "id": "829bf90b",
   "metadata": {},
   "outputs": [],
   "source": [
    "X2 = X2.drop(columns = ['MS'])"
   ]
  },
  {
   "cell_type": "code",
   "execution_count": 17,
   "id": "97dd5b90",
   "metadata": {},
   "outputs": [
    {
     "data": {
      "text/plain": [
       "DecisionTreeClassifier(max_leaf_nodes=5)"
      ]
     },
     "execution_count": 17,
     "metadata": {},
     "output_type": "execute_result"
    }
   ],
   "source": [
    "dt = DecisionTreeClassifier(criterion = 'gini', max_leaf_nodes=5)\n",
    "dt.fit(X2, y)"
   ]
  },
  {
   "cell_type": "code",
   "execution_count": 18,
   "id": "a3db2126",
   "metadata": {},
   "outputs": [],
   "source": [
    "from six import StringIO\n",
    "from sklearn.tree import DecisionTreeClassifier\n",
    "from sklearn.model_selection import train_test_split\n",
    "from sklearn.metrics import confusion_matrix\n",
    "from sklearn.tree import export_graphviz\n",
    "from IPython.display import Image \n",
    "from pydot import graph_from_dot_data\n",
    "import pandas as pd\n",
    "import numpy as np"
   ]
  },
  {
   "cell_type": "code",
   "execution_count": 19,
   "id": "56ce5c09",
   "metadata": {},
   "outputs": [
    {
     "data": {
      "image/png": "[encoded data removed]",
      "text/plain": [
       "<IPython.core.display.Image object>"
      ]
     },
     "execution_count": 19,
     "metadata": {},
     "output_type": "execute_result"
    }
   ],
   "source": [
    "dot_data = StringIO()\n",
    "export_graphviz(dt, out_file=dot_data, feature_names=X_names)\n",
    "(graph, ) = graph_from_dot_data(dot_data.getvalue())\n",
    "Image(graph.create_png())"
   ]
  },
  {
   "cell_type": "code",
   "execution_count": 20,
   "id": "b0ece8f2",
   "metadata": {},
   "outputs": [],
   "source": [
    "cart01 = DecisionTreeClassifier(criterion = 'gini', max_leaf_nodes=5).fit(X2,y)"
   ]
  },
  {
   "cell_type": "markdown",
   "id": "3387c8f7",
   "metadata": {},
   "source": [
    "To run the CART algorithm, we use the DecisionTreeClassifier() command. The DecisionTreeClassifier() command sets up the various parameters for the decision tree. For example, the criterion = “gini” input specifies that we are using a CART model which utilizes the Gini criterion, and the max_leaf_nodes input trims the CART tree to have at most the specified number of leaf nodes. For this example, we have limited our tree to five leaf nodes.\n",
    "\n",
    "The fit() command tells Python to fit the decision tree that was previously specified to the data. The predictor variables are given first, followed by the target variable. Thus, the two inputs to fit() are the X and y objects we created. We save the decision tree as cart01.\n",
    "\n",
    "Finally, to obtain the tree structure, we use the export_graphviz() command."
   ]
  },
  {
   "cell_type": "code",
   "execution_count": 22,
   "id": "5eed5396",
   "metadata": {},
   "outputs": [],
   "source": [
    "export_graphviz(cart01, out_file = \"test.dot\", feature_names=X_names, class_names=y_names)"
   ]
  },
  {
   "cell_type": "code",
   "execution_count": 23,
   "id": "5ebfaab7",
   "metadata": {},
   "outputs": [],
   "source": [
    "predIncomeCART = cart01.predict(X2)"
   ]
  },
  {
   "cell_type": "code",
   "execution_count": null,
   "id": "0a395dce",
   "metadata": {},
   "outputs": [],
   "source": []
  }
 ],
 "metadata": {
  "kernelspec": {
   "display_name": "Python 3 (ipykernel)",
   "language": "python",
   "name": "python3"
  },
  "language_info": {
   "codemirror_mode": {
    "name": "ipython",
    "version": 3
   },
   "file_extension": ".py",
   "mimetype": "text/x-python",
   "name": "python",
   "nbconvert_exporter": "python",
   "pygments_lexer": "ipython3",
   "version": "3.9.7"
  }
 },
 "nbformat": 4,
 "nbformat_minor": 5
}
